{
  "nbformat": 4,
  "nbformat_minor": 0,
  "metadata": {
    "colab": {
      "provenance": [],
      "gpuType": "T4",
      "authorship_tag": "ABX9TyOrRcOYg/37wT4xUzTw1u6h",
      "include_colab_link": true
    },
    "kernelspec": {
      "name": "python3",
      "display_name": "Python 3"
    },
    "language_info": {
      "name": "python"
    },
    "accelerator": "GPU"
  },
  "cells": [
    {
      "cell_type": "markdown",
      "metadata": {
        "id": "view-in-github",
        "colab_type": "text"
      },
      "source": [
        "<a href=\"https://colab.research.google.com/github/Akshat-works/Vision-Transformer/blob/main/Vision_Transformer.ipynb\" target=\"_parent\"><img src=\"https://colab.research.google.com/assets/colab-badge.svg\" alt=\"Open In Colab\"/></a>"
      ]
    },
    {
      "cell_type": "code",
      "execution_count": null,
      "metadata": {
        "colab": {
          "base_uri": "https://localhost:8080/"
        },
        "id": "7qBbXyD24Un6",
        "outputId": "408d7a5f-88f1-4abc-e0e7-bba1f1047621"
      },
      "outputs": [
        {
          "output_type": "stream",
          "name": "stdout",
          "text": [
            "Collecting tensorflow-addons\n",
            "  Downloading tensorflow_addons-0.23.0-cp310-cp310-manylinux_2_17_x86_64.manylinux2014_x86_64.whl (611 kB)\n",
            "\u001b[2K     \u001b[90m━━━━━━━━━━━━━━━━━━━━━━━━━━━━━━━━━━━━━━━━\u001b[0m \u001b[32m611.8/611.8 kB\u001b[0m \u001b[31m4.0 MB/s\u001b[0m eta \u001b[36m0:00:00\u001b[0m\n",
            "\u001b[?25hRequirement already satisfied: packaging in /usr/local/lib/python3.10/dist-packages (from tensorflow-addons) (24.0)\n",
            "Collecting typeguard<3.0.0,>=2.7 (from tensorflow-addons)\n",
            "  Downloading typeguard-2.13.3-py3-none-any.whl (17 kB)\n",
            "Installing collected packages: typeguard, tensorflow-addons\n",
            "Successfully installed tensorflow-addons-0.23.0 typeguard-2.13.3\n"
          ]
        }
      ],
      "source": [
        "pip install tensorflow-addons"
      ]
    },
    {
      "cell_type": "code",
      "source": [
        "import numpy as np\n",
        "import tensorflow as tf\n",
        "from tensorflow import keras\n",
        "from tensorflow.keras import layers\n",
        "import tensorflow_addons as tfa"
      ],
      "metadata": {
        "colab": {
          "base_uri": "https://localhost:8080/"
        },
        "id": "Pg8COUOe5kaN",
        "outputId": "f1f983bc-012f-40c2-8d4c-00e9f88cce9d"
      },
      "execution_count": null,
      "outputs": [
        {
          "output_type": "stream",
          "name": "stderr",
          "text": [
            "/usr/local/lib/python3.10/dist-packages/tensorflow_addons/utils/tfa_eol_msg.py:23: UserWarning: \n",
            "\n",
            "TensorFlow Addons (TFA) has ended development and introduction of new features.\n",
            "TFA has entered a minimal maintenance and release mode until a planned end of life in May 2024.\n",
            "Please modify downstream libraries to take dependencies from other repositories in our TensorFlow community (e.g. Keras, Keras-CV, and Keras-NLP). \n",
            "\n",
            "For more information see: https://github.com/tensorflow/addons/issues/2807 \n",
            "\n",
            "  warnings.warn(\n"
          ]
        }
      ]
    },
    {
      "cell_type": "code",
      "source": [
        "num_classes = 10\n",
        "input_shape = (32,32,3)\n",
        "(X_train, y_train), (X_test, y_test) = keras.datasets.cifar10.load_data()\n",
        "print(f\"X_train shape: {X_train.shape} - y_train shape: {y_train.shape}\")\n",
        "print(f\"X_test shape: {X_test.shape} - y_test shape: {y_test.shape}\")"
      ],
      "metadata": {
        "colab": {
          "base_uri": "https://localhost:8080/"
        },
        "id": "sCjGt1mz5nLh",
        "outputId": "674f7453-007a-4a09-da57-4b341ae751a9"
      },
      "execution_count": null,
      "outputs": [
        {
          "output_type": "stream",
          "name": "stdout",
          "text": [
            "Downloading data from https://www.cs.toronto.edu/~kriz/cifar-10-python.tar.gz\n",
            "170498071/170498071 [==============================] - 2s 0us/step\n",
            "X_train shape: (50000, 32, 32, 3) - y_train shape: (50000, 1)\n",
            "X_test shape: (10000, 32, 32, 3) - y_test shape: (10000, 1)\n"
          ]
        }
      ]
    },
    {
      "cell_type": "code",
      "source": [
        "input_shape = (32,32,3)"
      ],
      "metadata": {
        "id": "4c8q25l95s4c"
      },
      "execution_count": null,
      "outputs": []
    },
    {
      "cell_type": "code",
      "source": [
        "learning_rate = 0.001\n",
        "weight_decay = 0.0001\n",
        "batch_size = 256\n",
        "num_epochs = 40\n",
        "image_size = 72 #We will resize the images\n",
        "patch_size = 6 #Size of the patches to be extract from the input images\n",
        "num_patches = (image_size // patch_size) ** 2\n",
        "projection_dim = 64\n",
        "num_heads = 4\n",
        "transformer_units = [\n",
        "  projection_dim*2,\n",
        "  projection_dim\n",
        "]\n",
        "transformer_layers = 8\n",
        "mlp_head_units = [2048, 1024]"
      ],
      "metadata": {
        "id": "OOgA1CoP5suD"
      },
      "execution_count": null,
      "outputs": []
    },
    {
      "cell_type": "code",
      "source": [
        "data_augmentation = keras.Sequential(\n",
        "  [\n",
        "  layers.Normalization(trainable=False),\n",
        "  layers.Resizing(image_size, image_size),\n",
        "  layers.RandomFlip(\"horizontal\"),\n",
        "  layers.RandomRotation(factor=0.02),\n",
        "  layers.RandomZoom(\n",
        "    height_factor = 0.2,\n",
        "    width_factor = 0.2\n",
        "  )\n",
        "  ],\n",
        "  name=\"data_augmentation\"\n",
        ")\n",
        "data_augmentation.layers[0].adapt(X_train)"
      ],
      "metadata": {
        "id": "kNtx7vZg5sip"
      },
      "execution_count": null,
      "outputs": []
    },
    {
      "cell_type": "code",
      "source": [
        "def mlp(x, hidden_units, dropout_rate):\n",
        "  for units in hidden_units:\n",
        "    x = layers.Dense(units, activation = tf.nn.gelu)(x)\n",
        "    x = layers.Dropout(dropout_rate)(x)\n",
        "  return x"
      ],
      "metadata": {
        "id": "jvkIbvHH5sYZ"
      },
      "execution_count": null,
      "outputs": []
    },
    {
      "cell_type": "code",
      "source": [
        "class Patches(layers.Layer):\n",
        "  def __init__(self, patch_size):\n",
        "    super(Patches, self).__init__()\n",
        "    self.patch_size = patch_size\n",
        "\n",
        "  def call(self, images):\n",
        "    batch_size = tf.shape(images)[0]\n",
        "    patches = tf.image.extract_patches(\n",
        "      images = images,\n",
        "      sizes = [1, self.patch_size, self.patch_size, 1],\n",
        "      strides = [1, self.patch_size, self.patch_size, 1],\n",
        "      rates = [1, 1, 1, 1],\n",
        "      padding = \"VALID\",\n",
        "    )\n",
        "    patch_dims = patches.shape[-1]\n",
        "    patches = tf.reshape(patches, [batch_size, -1, patch_dims])\n",
        "    return patches"
      ],
      "metadata": {
        "id": "tqzH-Bjl6P3n"
      },
      "execution_count": null,
      "outputs": []
    },
    {
      "cell_type": "code",
      "source": [
        "import matplotlib.pyplot as plt\n",
        "plt.figure(figsize=(4,4))\n",
        "image = X_train[np.random.choice(range(X_train.shape[0]))]\n",
        "plt.imshow(image.astype(\"uint8\"))\n",
        "plt.axis(\"off\")\n",
        "\n",
        "resized_image = tf.image.resize(\n",
        "  tf.convert_to_tensor([image]), size=(image_size, image_size)\n",
        ")\n",
        "patches = Patches(patch_size)(resized_image)\n",
        "print(f\"Image size: {image_size} X {image_size}\")\n",
        "print(f\"Patch_size: {patch_size} X {patch_size}\")\n",
        "print(f\"Patches per image: {patches.shape[1]}\")\n",
        "print(f\"Elements per patch: {patches.shape[-1]}\")\n",
        "\n",
        "n = int(np.sqrt(patches.shape[1]))\n",
        "plt.figure(figsize = (4,4))\n",
        "for i, patch in enumerate(patches[0]):\n",
        "  ax = plt.subplot(n, n, i+1)\n",
        "  patch_img = tf.reshape(patch, (patch_size, patch_size, 3))\n",
        "  plt.imshow(patch_img.numpy().astype(\"uint8\"))\n",
        "  plt.axis(\"off\")"
      ],
      "metadata": {
        "colab": {
          "base_uri": "https://localhost:8080/",
          "height": 744
        },
        "id": "hdZ0uU7n6P0h",
        "outputId": "9ef3df5f-ae35-4640-9748-8a9845b9fc80"
      },
      "execution_count": null,
      "outputs": [
        {
          "output_type": "stream",
          "name": "stdout",
          "text": [
            "Image size: 72 X 72\n",
            "Patch_size: 6 X 6\n",
            "Patches per image: 144\n",
            "Elements per patch: 108\n"
          ]
        },
        {
          "output_type": "display_data",
          "data": {
            "text/plain": [
              "<Figure size 400x400 with 1 Axes>"
            ],
            "image/png": "[encoded data removed]"
          },
          "metadata": {}
        },
        {
          "output_type": "display_data",
          "data": {
            "text/plain": [
              "<Figure size 400x400 with 144 Axes>"
            ],
            "image/png": "[encoded data removed]"
          },
          "metadata": {}
        }
      ]
    },
    {
      "cell_type": "code",
      "source": [
        "class PatchEncoder(layers.Layer):\n",
        "  def __init__(self, num_patches, projection_dim):\n",
        "    super(PatchEncoder,self).__init__()\n",
        "    self.num_patches = num_patches\n",
        "    self.projection = layers.Dense(units=projection_dim)\n",
        "    self.position_embedding = layers.Embedding(\n",
        "        input_dim = num_patches, output_dim = projection_dim\n",
        "    )\n",
        "  def call(self,patch):\n",
        "    positions = tf.range(start=0, limit=self.num_patches, delta=1)\n",
        "    encoded =self.projection(patch) + self.position_embedding(positions)\n",
        "    return encoded"
      ],
      "metadata": {
        "id": "PbVMqbsp7L5S"
      },
      "execution_count": null,
      "outputs": []
    },
    {
      "cell_type": "code",
      "source": [
        "def create_vit_classifier():\n",
        "  inputs = layers.Input(shape=input_shape)\n",
        "  #Augment data.\n",
        "  augmented = data_augmentation(inputs)\n",
        "  #create patches\n",
        "  patches = Patches(patch_size)(augmented)\n",
        "  #encode patches.\n",
        "  encoded_patches = PatchEncoder(num_patches,projection_dim)(patches)\n",
        "\n",
        "  #create multiple layers of the transformer block\n",
        "  for _ in range(transformer_layers):\n",
        "    #layer normalization 1\n",
        "    x1 = layers.LayerNormalization(epsilon=1e-6)(encoded_patches)\n",
        "    #create a multi-head attention layer\n",
        "    attention_output = layers.MultiHeadAttention(\n",
        "      num_heads=num_heads, key_dim=projection_dim, dropout=0.1\n",
        "    )(x1,x1)\n",
        "    #skip connection1\n",
        "    x2 = layers.Add()([attention_output,encoded_patches])\n",
        "    #layer normalization2\n",
        "    x3= layers.LayerNormalization(epsilon=1e-6)(x2)\n",
        "    #MlP\n",
        "    x3 = mlp(x3, hidden_units = transformer_units, dropout_rate=0.1)\n",
        "    #skipconnection2.\n",
        "    encoded_patches = layers.Add()([x3,x2])\n",
        "\n",
        "  #create a [batch_size , projection_dim]tensor\n",
        "\n",
        "  representation = layers.LayerNormalization(epsilon=1e-6)(encoded_patches)\n",
        "  representation = layers.Flatten()(representation)\n",
        "  representation = layers.Dropout(0.5)(representation)\n",
        "  #add mlp.\n",
        "  features = mlp(representation,hidden_units=mlp_head_units, dropout_rate=0.5)\n",
        "  #classify outputs.\n",
        "  logits = layers.Dense(num_classes)(features)\n",
        "  #create the Keras Model\n",
        "  model = keras.models.Model(inputs=inputs, outputs=logits)\n",
        "  return model"
      ],
      "metadata": {
        "id": "x6yWv2Yt7dlu"
      },
      "execution_count": null,
      "outputs": []
    },
    {
      "cell_type": "code",
      "source": [
        "def run_experiment(model):\n",
        "  optimizer = tfa.optimizers.AdamW(\n",
        "    learning_rate=learning_rate, weight_decay=weight_decay\n",
        "  )\n",
        "  model.compile(\n",
        "    optimizer=optimizer,\n",
        "    loss=keras.losses.SparseCategoricalCrossentropy(from_logits=True),\n",
        "    metrics=[\n",
        "      keras.metrics.SparseCategoricalAccuracy(name=\"accuracy\"),\n",
        "      keras.metrics.SparseTopKCategoricalAccuracy(5,name=\"top-5-accuracy\"),\n",
        "    ],\n",
        "  )\n",
        "\n",
        "  checkpoint_filepath = \"./temp/checkpoint\"\n",
        "  checkpoint_callback = keras.callbacks.ModelCheckpoint(\n",
        "    checkpoint_filepath,\n",
        "    monitor=\"val_accuracy\",\n",
        "    save_best_only=True,\n",
        "    save_weights_only=True,\n",
        "  )\n",
        "  history = model.fit(\n",
        "    x=X_train,\n",
        "    y=y_train,\n",
        "    batch_size=batch_size,\n",
        "    epochs=num_epochs,\n",
        "    validation_split=0.1,\n",
        "    callbacks=[checkpoint_callback]\n",
        "  )\n",
        "  model.load_weights(checkpoint_filepath)\n",
        "  _, accuracy, top_5_accuracy = model.evaluate(X_test, y_test)\n",
        "  print(f\"Test accuracy: {round(accuracy*100,2)}%\")\n",
        "  print(f\"Test Top 5 accuracy:{round(top_5_accuracy*100,2)}%\")"
      ],
      "metadata": {
        "id": "wvEvpIqJ8AJ4"
      },
      "execution_count": null,
      "outputs": []
    },
    {
      "cell_type": "code",
      "source": [
        "vit_classifier = create_vit_classifier()\n",
        "history = run_experiment(vit_classifier)"
      ],
      "metadata": {
        "colab": {
          "base_uri": "https://localhost:8080/"
        },
        "id": "krglarAQ8Zu1",
        "outputId": "54038823-20a0-4ece-f790-93768b2aaede"
      },
      "execution_count": null,
      "outputs": [
        {
          "output_type": "stream",
          "name": "stdout",
          "text": [
            "Epoch 1/40\n",
            "176/176 [==============================] - 82s 388ms/step - loss: 2.0881 - accuracy: 0.3050 - top-5-accuracy: 0.7970 - val_loss: 1.5233 - val_accuracy: 0.4556 - val_top-5-accuracy: 0.9114\n",
            "Epoch 2/40\n",
            "176/176 [==============================] - 72s 407ms/step - loss: 1.5871 - accuracy: 0.4305 - top-5-accuracy: 0.8941 - val_loss: 1.2943 - val_accuracy: 0.5392 - val_top-5-accuracy: 0.9406\n",
            "Epoch 3/40\n",
            "176/176 [==============================] - 74s 419ms/step - loss: 1.4196 - accuracy: 0.4920 - top-5-accuracy: 0.9237 - val_loss: 1.2215 - val_accuracy: 0.5528 - val_top-5-accuracy: 0.9558\n",
            "Epoch 4/40\n",
            "176/176 [==============================] - 74s 419ms/step - loss: 1.3203 - accuracy: 0.5306 - top-5-accuracy: 0.9349 - val_loss: 1.1121 - val_accuracy: 0.6056 - val_top-5-accuracy: 0.9594\n",
            "Epoch 5/40\n",
            "176/176 [==============================] - 74s 419ms/step - loss: 1.2420 - accuracy: 0.5605 - top-5-accuracy: 0.9440 - val_loss: 1.0393 - val_accuracy: 0.6314 - val_top-5-accuracy: 0.9688\n",
            "Epoch 6/40\n",
            "176/176 [==============================] - 74s 419ms/step - loss: 1.1807 - accuracy: 0.5832 - top-5-accuracy: 0.9490 - val_loss: 0.9872 - val_accuracy: 0.6488 - val_top-5-accuracy: 0.9718\n",
            "Epoch 7/40\n",
            "176/176 [==============================] - 78s 441ms/step - loss: 1.1372 - accuracy: 0.6014 - top-5-accuracy: 0.9539 - val_loss: 0.9466 - val_accuracy: 0.6666 - val_top-5-accuracy: 0.9762\n",
            "Epoch 8/40\n",
            "176/176 [==============================] - 93s 531ms/step - loss: 1.0849 - accuracy: 0.6194 - top-5-accuracy: 0.9591 - val_loss: 0.9177 - val_accuracy: 0.6802 - val_top-5-accuracy: 0.9766\n",
            "Epoch 9/40\n",
            "176/176 [==============================] - 73s 415ms/step - loss: 1.0431 - accuracy: 0.6320 - top-5-accuracy: 0.9628 - val_loss: 0.8739 - val_accuracy: 0.6972 - val_top-5-accuracy: 0.9772\n",
            "Epoch 10/40\n",
            "176/176 [==============================] - 74s 418ms/step - loss: 1.0120 - accuracy: 0.6473 - top-5-accuracy: 0.9642 - val_loss: 0.8461 - val_accuracy: 0.7030 - val_top-5-accuracy: 0.9786\n",
            "Epoch 11/40\n",
            "176/176 [==============================] - 77s 439ms/step - loss: 0.9851 - accuracy: 0.6545 - top-5-accuracy: 0.9670 - val_loss: 0.8204 - val_accuracy: 0.7140 - val_top-5-accuracy: 0.9814\n",
            "Epoch 12/40\n",
            "176/176 [==============================] - 66s 376ms/step - loss: 0.9492 - accuracy: 0.6708 - top-5-accuracy: 0.9693 - val_loss: 0.8163 - val_accuracy: 0.7104 - val_top-5-accuracy: 0.9840\n",
            "Epoch 13/40\n",
            "176/176 [==============================] - 72s 407ms/step - loss: 0.9214 - accuracy: 0.6795 - top-5-accuracy: 0.9703 - val_loss: 0.7987 - val_accuracy: 0.7200 - val_top-5-accuracy: 0.9834\n",
            "Epoch 14/40\n",
            "176/176 [==============================] - 77s 441ms/step - loss: 0.8972 - accuracy: 0.6887 - top-5-accuracy: 0.9726 - val_loss: 0.8075 - val_accuracy: 0.7248 - val_top-5-accuracy: 0.9798\n",
            "Epoch 15/40\n",
            "176/176 [==============================] - 73s 417ms/step - loss: 0.8685 - accuracy: 0.6956 - top-5-accuracy: 0.9753 - val_loss: 0.7586 - val_accuracy: 0.7366 - val_top-5-accuracy: 0.9856\n",
            "Epoch 16/40\n",
            "176/176 [==============================] - 85s 485ms/step - loss: 0.8435 - accuracy: 0.7076 - top-5-accuracy: 0.9770 - val_loss: 0.7492 - val_accuracy: 0.7400 - val_top-5-accuracy: 0.9836\n",
            "Epoch 17/40\n",
            "176/176 [==============================] - 73s 415ms/step - loss: 0.8155 - accuracy: 0.7179 - top-5-accuracy: 0.9787 - val_loss: 0.7141 - val_accuracy: 0.7484 - val_top-5-accuracy: 0.9878\n",
            "Epoch 18/40\n",
            "176/176 [==============================] - 74s 419ms/step - loss: 0.7894 - accuracy: 0.7241 - top-5-accuracy: 0.9803 - val_loss: 0.6850 - val_accuracy: 0.7602 - val_top-5-accuracy: 0.9872\n",
            "Epoch 19/40\n",
            "176/176 [==============================] - 68s 389ms/step - loss: 0.7630 - accuracy: 0.7342 - top-5-accuracy: 0.9811 - val_loss: 0.6861 - val_accuracy: 0.7642 - val_top-5-accuracy: 0.9868\n",
            "Epoch 20/40\n",
            "176/176 [==============================] - 66s 373ms/step - loss: 0.7426 - accuracy: 0.7436 - top-5-accuracy: 0.9818 - val_loss: 0.6877 - val_accuracy: 0.7614 - val_top-5-accuracy: 0.9866\n",
            "Epoch 21/40\n",
            "176/176 [==============================] - 108s 614ms/step - loss: 0.7298 - accuracy: 0.7466 - top-5-accuracy: 0.9827 - val_loss: 0.6261 - val_accuracy: 0.7880 - val_top-5-accuracy: 0.9876\n",
            "Epoch 22/40\n",
            "176/176 [==============================] - 66s 375ms/step - loss: 0.6981 - accuracy: 0.7555 - top-5-accuracy: 0.9851 - val_loss: 0.6445 - val_accuracy: 0.7734 - val_top-5-accuracy: 0.9878\n",
            "Epoch 23/40\n",
            "176/176 [==============================] - 65s 372ms/step - loss: 0.6882 - accuracy: 0.7601 - top-5-accuracy: 0.9859 - val_loss: 0.6203 - val_accuracy: 0.7816 - val_top-5-accuracy: 0.9890\n",
            "Epoch 24/40\n",
            "176/176 [==============================] - 73s 413ms/step - loss: 0.6678 - accuracy: 0.7652 - top-5-accuracy: 0.9855 - val_loss: 0.6143 - val_accuracy: 0.7884 - val_top-5-accuracy: 0.9872\n",
            "Epoch 25/40\n",
            "176/176 [==============================] - 66s 375ms/step - loss: 0.6508 - accuracy: 0.7725 - top-5-accuracy: 0.9872 - val_loss: 0.6200 - val_accuracy: 0.7872 - val_top-5-accuracy: 0.9884\n",
            "Epoch 26/40\n",
            "176/176 [==============================] - 103s 587ms/step - loss: 0.6289 - accuracy: 0.7815 - top-5-accuracy: 0.9872 - val_loss: 0.5930 - val_accuracy: 0.7964 - val_top-5-accuracy: 0.9886\n",
            "Epoch 27/40\n",
            "176/176 [==============================] - 108s 617ms/step - loss: 0.6161 - accuracy: 0.7852 - top-5-accuracy: 0.9877 - val_loss: 0.5743 - val_accuracy: 0.8018 - val_top-5-accuracy: 0.9898\n",
            "Epoch 28/40\n",
            "176/176 [==============================] - 66s 375ms/step - loss: 0.6024 - accuracy: 0.7877 - top-5-accuracy: 0.9891 - val_loss: 0.5737 - val_accuracy: 0.8008 - val_top-5-accuracy: 0.9908\n",
            "Epoch 29/40\n",
            "176/176 [==============================] - 66s 373ms/step - loss: 0.5820 - accuracy: 0.7942 - top-5-accuracy: 0.9898 - val_loss: 0.5780 - val_accuracy: 0.7996 - val_top-5-accuracy: 0.9900\n",
            "Epoch 30/40\n",
            "176/176 [==============================] - 66s 373ms/step - loss: 0.5716 - accuracy: 0.7982 - top-5-accuracy: 0.9909 - val_loss: 0.6011 - val_accuracy: 0.7872 - val_top-5-accuracy: 0.9900\n",
            "Epoch 31/40\n",
            "176/176 [==============================] - 66s 374ms/step - loss: 0.5590 - accuracy: 0.8032 - top-5-accuracy: 0.9916 - val_loss: 0.5683 - val_accuracy: 0.7986 - val_top-5-accuracy: 0.9918\n",
            "Epoch 32/40\n",
            "176/176 [==============================] - 77s 437ms/step - loss: 0.5599 - accuracy: 0.8052 - top-5-accuracy: 0.9907 - val_loss: 0.5708 - val_accuracy: 0.8062 - val_top-5-accuracy: 0.9906\n",
            "Epoch 33/40\n",
            "176/176 [==============================] - 103s 588ms/step - loss: 0.5376 - accuracy: 0.8109 - top-5-accuracy: 0.9914 - val_loss: 0.5578 - val_accuracy: 0.8078 - val_top-5-accuracy: 0.9916\n",
            "Epoch 34/40\n",
            "176/176 [==============================] - 66s 375ms/step - loss: 0.5261 - accuracy: 0.8153 - top-5-accuracy: 0.9923 - val_loss: 0.5657 - val_accuracy: 0.8024 - val_top-5-accuracy: 0.9912\n",
            "Epoch 35/40\n",
            "176/176 [==============================] - 66s 373ms/step - loss: 0.5084 - accuracy: 0.8216 - top-5-accuracy: 0.9932 - val_loss: 0.5684 - val_accuracy: 0.8076 - val_top-5-accuracy: 0.9908\n",
            "Epoch 36/40\n",
            "176/176 [==============================] - 66s 373ms/step - loss: 0.5003 - accuracy: 0.8248 - top-5-accuracy: 0.9933 - val_loss: 0.5781 - val_accuracy: 0.7986 - val_top-5-accuracy: 0.9894\n",
            "Epoch 37/40\n",
            "176/176 [==============================] - 87s 496ms/step - loss: 0.4907 - accuracy: 0.8276 - top-5-accuracy: 0.9929 - val_loss: 0.5377 - val_accuracy: 0.8220 - val_top-5-accuracy: 0.9912\n",
            "Epoch 38/40\n",
            "176/176 [==============================] - 66s 377ms/step - loss: 0.4776 - accuracy: 0.8326 - top-5-accuracy: 0.9935 - val_loss: 0.5814 - val_accuracy: 0.8072 - val_top-5-accuracy: 0.9886\n",
            "Epoch 39/40\n",
            "176/176 [==============================] - 66s 373ms/step - loss: 0.4682 - accuracy: 0.8353 - top-5-accuracy: 0.9946 - val_loss: 0.5310 - val_accuracy: 0.8174 - val_top-5-accuracy: 0.9890\n",
            "Epoch 40/40\n",
            "176/176 [==============================] - 66s 373ms/step - loss: 0.4531 - accuracy: 0.8400 - top-5-accuracy: 0.9950 - val_loss: 0.5449 - val_accuracy: 0.8214 - val_top-5-accuracy: 0.9910\n",
            "313/313 [==============================] - 7s 23ms/step - loss: 0.5678 - accuracy: 0.8099 - top-5-accuracy: 0.9898\n",
            "Test accuracy: 80.99%\n",
            "Test Top 5 accuracy:98.98%\n"
          ]
        }
      ]
    },
    {
      "cell_type": "code",
      "source": [
        "class_names = [\n",
        "    'airplane'\n",
        "    'automobile'\n",
        "    'bird'\n",
        "    'cat'\n",
        "    'deer'\n",
        "    'dog'\n",
        "    'frog'\n",
        "    'horse'\n",
        "    'ship'\n",
        "    'truck'\n",
        "]"
      ],
      "metadata": {
        "id": "sLC7G3vUDnol"
      },
      "execution_count": null,
      "outputs": []
    },
    {
      "cell_type": "code",
      "source": [
        "def img_predict(images, model):\n",
        "  if len(images.shape) == 3:\n",
        "    out = model.predict(images.reshape(-1,*images.shape))\n",
        "  else:\n",
        "    out = model.predict(images)\n",
        "  prediction = np.argmax(out, axis = 1)\n",
        "  img_prediction = []\n",
        "  for i in prediction:\n",
        "    if i <= len(class_names):\n",
        "      img_prediction.append(class_names[i])\n",
        "    else:\n",
        "      img_prediction.append(\"Unknown\")\n",
        "  return img_prediction"
      ],
      "metadata": {
        "id": "VGYx-sryD7Rv"
      },
      "execution_count": null,
      "outputs": []
    },
    {
      "cell_type": "code",
      "source": [
        "index=16\n",
        "plt.imshow(X_test[index])\n",
        "prediction=img_predict(X_test[index],vit_classifier)\n",
        "print(prediction)"
      ],
      "metadata": {
        "colab": {
          "base_uri": "https://localhost:8080/",
          "height": 466
        },
        "id": "nPLxqp1FEHv7",
        "outputId": "be828422-eb22-469f-8e73-b5720d5b79bb"
      },
      "execution_count": null,
      "outputs": [
        {
          "output_type": "stream",
          "name": "stdout",
          "text": [
            "1/1 [==============================] - 1s 1s/step\n",
            "['Unknown']\n"
          ]
        },
        {
          "output_type": "display_data",
          "data": {
            "text/plain": [
              "<Figure size 640x480 with 1 Axes>"
            ],
            "image/png": "[encoded data removed]"
          },
          "metadata": {}
        }
      ]
    }
  ]
}